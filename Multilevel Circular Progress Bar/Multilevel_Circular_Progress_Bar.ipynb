{
 "cells": [
  {
   "cell_type": "markdown",
   "id": "304b7e4d",
   "metadata": {},
   "source": [
    "### 📦 Multilevel Circular Progress Bar – Visualizing Multiple KPIs in a Compact Circular Format\n",
    "\n",
    "The **Multilevel Circular Progress Bar** is an effective way to display several key performance indicators (KPIs) simultaneously within concentric circular bars.  \n",
    "Each ring represents a different KPI with its own progress value, allowing for:\n",
    "\n",
    "- Quick comparison of **multiple metrics** in a single view  \n",
    "- Clear visual tracking of **progress toward targets**  \n",
    "- Compact design ideal for **dashboards** and **summary reports**  \n",
    "\n",
    "This chart is especially useful when you want a **clean, intuitive overview** of several related performance measures without cluttering your space with multiple individual gauges or bars."
   ]
  },
  {
   "cell_type": "code",
   "execution_count": 1,
   "id": "72b21fec",
   "metadata": {},
   "outputs": [
    {
     "data": {
      "application/vnd.plotly.v1+json": {
       "config": {
        "plotlyServerURL": "https://plot.ly"
       },
       "data": [
        {
         "direction": "clockwise",
         "domain": {
          "x": [
           0.324,
           0.6759999999999999
          ],
          "y": [
           0.324,
           0.6759999999999999
          ]
         },
         "hole": 0.6818181818181819,
         "hoverinfo": "skip",
         "labels": [
          "",
          "",
          ""
         ],
         "marker": {
          "colors": [
           "#d2b48c",
           "rgba(0,0,0,0.2)",
           "rgba(0,0,0,0)"
          ]
         },
         "rotation": 0,
         "showlegend": false,
         "sort": false,
         "textinfo": "none",
         "type": "pie",
         "values": [
          229.5,
          40.5,
          90
         ]
        },
        {
         "direction": "clockwise",
         "domain": {
          "x": [
           0.248,
           0.752
          ],
          "y": [
           0.248,
           0.752
          ]
         },
         "hole": 0.7777777777777778,
         "hoverinfo": "skip",
         "labels": [
          "",
          "",
          ""
         ],
         "marker": {
          "colors": [
           "#c19a6b",
           "rgba(0,0,0,0.2)",
           "rgba(0,0,0,0)"
          ]
         },
         "rotation": 0,
         "showlegend": false,
         "sort": false,
         "textinfo": "none",
         "type": "pie",
         "values": [
          162,
          108,
          90
         ]
        },
        {
         "direction": "clockwise",
         "domain": {
          "x": [
           0.172,
           0.8280000000000001
          ],
          "y": [
           0.172,
           0.8280000000000001
          ]
         },
         "hole": 0.8292682926829269,
         "hoverinfo": "skip",
         "labels": [
          "",
          "",
          ""
         ],
         "marker": {
          "colors": [
           "#8b4513",
           "rgba(0,0,0,0.2)",
           "rgba(0,0,0,0)"
          ]
         },
         "rotation": 0,
         "showlegend": false,
         "sort": false,
         "textinfo": "none",
         "type": "pie",
         "values": [
          121.5,
          148.5,
          90
         ]
        },
        {
         "direction": "clockwise",
         "domain": {
          "x": [
           0.09599999999999997,
           0.904
          ],
          "y": [
           0.09599999999999997,
           0.904
          ]
         },
         "hole": 0.8613861386138614,
         "hoverinfo": "skip",
         "labels": [
          "",
          "",
          ""
         ],
         "marker": {
          "colors": [
           "#5c4033",
           "rgba(0,0,0,0.2)",
           "rgba(0,0,0,0)"
          ]
         },
         "rotation": 0,
         "showlegend": false,
         "sort": false,
         "textinfo": "none",
         "type": "pie",
         "values": [
          189,
          81,
          90
         ]
        },
        {
         "direction": "clockwise",
         "domain": {
          "x": [
           0.019999999999999962,
           0.98
          ],
          "y": [
           0.019999999999999962,
           0.98
          ]
         },
         "hole": 0.8833333333333333,
         "hoverinfo": "skip",
         "labels": [
          "",
          "",
          ""
         ],
         "marker": {
          "colors": [
           "#5c4022",
           "rgba(0,0,0,0.2)",
           "rgba(0,0,0,0)"
          ]
         },
         "rotation": 0,
         "showlegend": false,
         "sort": false,
         "textinfo": "none",
         "type": "pie",
         "values": [
          135,
          135,
          90
         ]
        }
       ],
       "layout": {
        "annotations": [
         {
          "align": "left",
          "font": {
           "size": 12
          },
          "showarrow": false,
          "text": "       Sales 85%",
          "x": 0.4,
          "xref": "paper",
          "y": 0.648,
          "yref": "paper"
         },
         {
          "align": "left",
          "font": {
           "size": 12
          },
          "showarrow": false,
          "text": "       Leads 60%",
          "x": 0.4,
          "xref": "paper",
          "y": 0.724,
          "yref": "paper"
         },
         {
          "align": "left",
          "font": {
           "size": 12
          },
          "showarrow": false,
          "text": "Satisfaction 45%",
          "x": 0.4,
          "xref": "paper",
          "y": 0.8,
          "yref": "paper"
         },
         {
          "align": "left",
          "font": {
           "size": 12
          },
          "showarrow": false,
          "text": "   Retention 70%",
          "x": 0.4,
          "xref": "paper",
          "y": 0.8760000000000001,
          "yref": "paper"
         },
         {
          "align": "left",
          "font": {
           "size": 12
          },
          "showarrow": false,
          "text": "    Renewals 50%",
          "x": 0.4,
          "xref": "paper",
          "y": 0.9520000000000001,
          "yref": "paper"
         },
         {
          "align": "center",
          "font": {
           "size": 20
          },
          "showarrow": false,
          "text": "KPIs",
          "x": 0.5,
          "xref": "paper",
          "y": 0.5,
          "yref": "paper"
         }
        ],
        "height": 400,
        "margin": {
         "b": 0,
         "l": 0,
         "r": 0,
         "t": 0
        },
        "template": {
         "data": {
          "bar": [
           {
            "error_x": {
             "color": "#f2f5fa"
            },
            "error_y": {
             "color": "#f2f5fa"
            },
            "marker": {
             "line": {
              "color": "rgb(17,17,17)",
              "width": 0.5
             },
             "pattern": {
              "fillmode": "overlay",
              "size": 10,
              "solidity": 0.2
             }
            },
            "type": "bar"
           }
          ],
          "barpolar": [
           {
            "marker": {
             "line": {
              "color": "rgb(17,17,17)",
              "width": 0.5
             },
             "pattern": {
              "fillmode": "overlay",
              "size": 10,
              "solidity": 0.2
             }
            },
            "type": "barpolar"
           }
          ],
          "carpet": [
           {
            "aaxis": {
             "endlinecolor": "#A2B1C6",
             "gridcolor": "#506784",
             "linecolor": "#506784",
             "minorgridcolor": "#506784",
             "startlinecolor": "#A2B1C6"
            },
            "baxis": {
             "endlinecolor": "#A2B1C6",
             "gridcolor": "#506784",
             "linecolor": "#506784",
             "minorgridcolor": "#506784",
             "startlinecolor": "#A2B1C6"
            },
            "type": "carpet"
           }
          ],
          "choropleth": [
           {
            "colorbar": {
             "outlinewidth": 0,
             "ticks": ""
            },
            "type": "choropleth"
           }
          ],
          "contour": [
           {
            "colorbar": {
             "outlinewidth": 0,
             "ticks": ""
            },
            "colorscale": [
             [
              0,
              "#0d0887"
             ],
             [
              0.1111111111111111,
              "#46039f"
             ],
             [
              0.2222222222222222,
              "#7201a8"
             ],
             [
              0.3333333333333333,
              "#9c179e"
             ],
             [
              0.4444444444444444,
              "#bd3786"
             ],
             [
              0.5555555555555556,
              "#d8576b"
             ],
             [
              0.6666666666666666,
              "#ed7953"
             ],
             [
              0.7777777777777778,
              "#fb9f3a"
             ],
             [
              0.8888888888888888,
              "#fdca26"
             ],
             [
              1,
              "#f0f921"
             ]
            ],
            "type": "contour"
           }
          ],
          "contourcarpet": [
           {
            "colorbar": {
             "outlinewidth": 0,
             "ticks": ""
            },
            "type": "contourcarpet"
           }
          ],
          "heatmap": [
           {
            "colorbar": {
             "outlinewidth": 0,
             "ticks": ""
            },
            "colorscale": [
             [
              0,
              "#0d0887"
             ],
             [
              0.1111111111111111,
              "#46039f"
             ],
             [
              0.2222222222222222,
              "#7201a8"
             ],
             [
              0.3333333333333333,
              "#9c179e"
             ],
             [
              0.4444444444444444,
              "#bd3786"
             ],
             [
              0.5555555555555556,
              "#d8576b"
             ],
             [
              0.6666666666666666,
              "#ed7953"
             ],
             [
              0.7777777777777778,
              "#fb9f3a"
             ],
             [
              0.8888888888888888,
              "#fdca26"
             ],
             [
              1,
              "#f0f921"
             ]
            ],
            "type": "heatmap"
           }
          ],
          "heatmapgl": [
           {
            "colorbar": {
             "outlinewidth": 0,
             "ticks": ""
            },
            "colorscale": [
             [
              0,
              "#0d0887"
             ],
             [
              0.1111111111111111,
              "#46039f"
             ],
             [
              0.2222222222222222,
              "#7201a8"
             ],
             [
              0.3333333333333333,
              "#9c179e"
             ],
             [
              0.4444444444444444,
              "#bd3786"
             ],
             [
              0.5555555555555556,
              "#d8576b"
             ],
             [
              0.6666666666666666,
              "#ed7953"
             ],
             [
              0.7777777777777778,
              "#fb9f3a"
             ],
             [
              0.8888888888888888,
              "#fdca26"
             ],
             [
              1,
              "#f0f921"
             ]
            ],
            "type": "heatmapgl"
           }
          ],
          "histogram": [
           {
            "marker": {
             "pattern": {
              "fillmode": "overlay",
              "size": 10,
              "solidity": 0.2
             }
            },
            "type": "histogram"
           }
          ],
          "histogram2d": [
           {
            "colorbar": {
             "outlinewidth": 0,
             "ticks": ""
            },
            "colorscale": [
             [
              0,
              "#0d0887"
             ],
             [
              0.1111111111111111,
              "#46039f"
             ],
             [
              0.2222222222222222,
              "#7201a8"
             ],
             [
              0.3333333333333333,
              "#9c179e"
             ],
             [
              0.4444444444444444,
              "#bd3786"
             ],
             [
              0.5555555555555556,
              "#d8576b"
             ],
             [
              0.6666666666666666,
              "#ed7953"
             ],
             [
              0.7777777777777778,
              "#fb9f3a"
             ],
             [
              0.8888888888888888,
              "#fdca26"
             ],
             [
              1,
              "#f0f921"
             ]
            ],
            "type": "histogram2d"
           }
          ],
          "histogram2dcontour": [
           {
            "colorbar": {
             "outlinewidth": 0,
             "ticks": ""
            },
            "colorscale": [
             [
              0,
              "#0d0887"
             ],
             [
              0.1111111111111111,
              "#46039f"
             ],
             [
              0.2222222222222222,
              "#7201a8"
             ],
             [
              0.3333333333333333,
              "#9c179e"
             ],
             [
              0.4444444444444444,
              "#bd3786"
             ],
             [
              0.5555555555555556,
              "#d8576b"
             ],
             [
              0.6666666666666666,
              "#ed7953"
             ],
             [
              0.7777777777777778,
              "#fb9f3a"
             ],
             [
              0.8888888888888888,
              "#fdca26"
             ],
             [
              1,
              "#f0f921"
             ]
            ],
            "type": "histogram2dcontour"
           }
          ],
          "mesh3d": [
           {
            "colorbar": {
             "outlinewidth": 0,
             "ticks": ""
            },
            "type": "mesh3d"
           }
          ],
          "parcoords": [
           {
            "line": {
             "colorbar": {
              "outlinewidth": 0,
              "ticks": ""
             }
            },
            "type": "parcoords"
           }
          ],
          "pie": [
           {
            "automargin": true,
            "type": "pie"
           }
          ],
          "scatter": [
           {
            "marker": {
             "line": {
              "color": "#283442"
             }
            },
            "type": "scatter"
           }
          ],
          "scatter3d": [
           {
            "line": {
             "colorbar": {
              "outlinewidth": 0,
              "ticks": ""
             }
            },
            "marker": {
             "colorbar": {
              "outlinewidth": 0,
              "ticks": ""
             }
            },
            "type": "scatter3d"
           }
          ],
          "scattercarpet": [
           {
            "marker": {
             "colorbar": {
              "outlinewidth": 0,
              "ticks": ""
             }
            },
            "type": "scattercarpet"
           }
          ],
          "scattergeo": [
           {
            "marker": {
             "colorbar": {
              "outlinewidth": 0,
              "ticks": ""
             }
            },
            "type": "scattergeo"
           }
          ],
          "scattergl": [
           {
            "marker": {
             "line": {
              "color": "#283442"
             }
            },
            "type": "scattergl"
           }
          ],
          "scattermapbox": [
           {
            "marker": {
             "colorbar": {
              "outlinewidth": 0,
              "ticks": ""
             }
            },
            "type": "scattermapbox"
           }
          ],
          "scatterpolar": [
           {
            "marker": {
             "colorbar": {
              "outlinewidth": 0,
              "ticks": ""
             }
            },
            "type": "scatterpolar"
           }
          ],
          "scatterpolargl": [
           {
            "marker": {
             "colorbar": {
              "outlinewidth": 0,
              "ticks": ""
             }
            },
            "type": "scatterpolargl"
           }
          ],
          "scatterternary": [
           {
            "marker": {
             "colorbar": {
              "outlinewidth": 0,
              "ticks": ""
             }
            },
            "type": "scatterternary"
           }
          ],
          "surface": [
           {
            "colorbar": {
             "outlinewidth": 0,
             "ticks": ""
            },
            "colorscale": [
             [
              0,
              "#0d0887"
             ],
             [
              0.1111111111111111,
              "#46039f"
             ],
             [
              0.2222222222222222,
              "#7201a8"
             ],
             [
              0.3333333333333333,
              "#9c179e"
             ],
             [
              0.4444444444444444,
              "#bd3786"
             ],
             [
              0.5555555555555556,
              "#d8576b"
             ],
             [
              0.6666666666666666,
              "#ed7953"
             ],
             [
              0.7777777777777778,
              "#fb9f3a"
             ],
             [
              0.8888888888888888,
              "#fdca26"
             ],
             [
              1,
              "#f0f921"
             ]
            ],
            "type": "surface"
           }
          ],
          "table": [
           {
            "cells": {
             "fill": {
              "color": "#506784"
             },
             "line": {
              "color": "rgb(17,17,17)"
             }
            },
            "header": {
             "fill": {
              "color": "#2a3f5f"
             },
             "line": {
              "color": "rgb(17,17,17)"
             }
            },
            "type": "table"
           }
          ]
         },
         "layout": {
          "annotationdefaults": {
           "arrowcolor": "#f2f5fa",
           "arrowhead": 0,
           "arrowwidth": 1
          },
          "autotypenumbers": "strict",
          "coloraxis": {
           "colorbar": {
            "outlinewidth": 0,
            "ticks": ""
           }
          },
          "colorscale": {
           "diverging": [
            [
             0,
             "#8e0152"
            ],
            [
             0.1,
             "#c51b7d"
            ],
            [
             0.2,
             "#de77ae"
            ],
            [
             0.3,
             "#f1b6da"
            ],
            [
             0.4,
             "#fde0ef"
            ],
            [
             0.5,
             "#f7f7f7"
            ],
            [
             0.6,
             "#e6f5d0"
            ],
            [
             0.7,
             "#b8e186"
            ],
            [
             0.8,
             "#7fbc41"
            ],
            [
             0.9,
             "#4d9221"
            ],
            [
             1,
             "#276419"
            ]
           ],
           "sequential": [
            [
             0,
             "#0d0887"
            ],
            [
             0.1111111111111111,
             "#46039f"
            ],
            [
             0.2222222222222222,
             "#7201a8"
            ],
            [
             0.3333333333333333,
             "#9c179e"
            ],
            [
             0.4444444444444444,
             "#bd3786"
            ],
            [
             0.5555555555555556,
             "#d8576b"
            ],
            [
             0.6666666666666666,
             "#ed7953"
            ],
            [
             0.7777777777777778,
             "#fb9f3a"
            ],
            [
             0.8888888888888888,
             "#fdca26"
            ],
            [
             1,
             "#f0f921"
            ]
           ],
           "sequentialminus": [
            [
             0,
             "#0d0887"
            ],
            [
             0.1111111111111111,
             "#46039f"
            ],
            [
             0.2222222222222222,
             "#7201a8"
            ],
            [
             0.3333333333333333,
             "#9c179e"
            ],
            [
             0.4444444444444444,
             "#bd3786"
            ],
            [
             0.5555555555555556,
             "#d8576b"
            ],
            [
             0.6666666666666666,
             "#ed7953"
            ],
            [
             0.7777777777777778,
             "#fb9f3a"
            ],
            [
             0.8888888888888888,
             "#fdca26"
            ],
            [
             1,
             "#f0f921"
            ]
           ]
          },
          "colorway": [
           "#636efa",
           "#EF553B",
           "#00cc96",
           "#ab63fa",
           "#FFA15A",
           "#19d3f3",
           "#FF6692",
           "#B6E880",
           "#FF97FF",
           "#FECB52"
          ],
          "font": {
           "color": "#f2f5fa"
          },
          "geo": {
           "bgcolor": "rgb(17,17,17)",
           "lakecolor": "rgb(17,17,17)",
           "landcolor": "rgb(17,17,17)",
           "showlakes": true,
           "showland": true,
           "subunitcolor": "#506784"
          },
          "hoverlabel": {
           "align": "left"
          },
          "hovermode": "closest",
          "mapbox": {
           "style": "dark"
          },
          "paper_bgcolor": "rgb(17,17,17)",
          "plot_bgcolor": "rgb(17,17,17)",
          "polar": {
           "angularaxis": {
            "gridcolor": "#506784",
            "linecolor": "#506784",
            "ticks": ""
           },
           "bgcolor": "rgb(17,17,17)",
           "radialaxis": {
            "gridcolor": "#506784",
            "linecolor": "#506784",
            "ticks": ""
           }
          },
          "scene": {
           "xaxis": {
            "backgroundcolor": "rgb(17,17,17)",
            "gridcolor": "#506784",
            "gridwidth": 2,
            "linecolor": "#506784",
            "showbackground": true,
            "ticks": "",
            "zerolinecolor": "#C8D4E3"
           },
           "yaxis": {
            "backgroundcolor": "rgb(17,17,17)",
            "gridcolor": "#506784",
            "gridwidth": 2,
            "linecolor": "#506784",
            "showbackground": true,
            "ticks": "",
            "zerolinecolor": "#C8D4E3"
           },
           "zaxis": {
            "backgroundcolor": "rgb(17,17,17)",
            "gridcolor": "#506784",
            "gridwidth": 2,
            "linecolor": "#506784",
            "showbackground": true,
            "ticks": "",
            "zerolinecolor": "#C8D4E3"
           }
          },
          "shapedefaults": {
           "line": {
            "color": "#f2f5fa"
           }
          },
          "sliderdefaults": {
           "bgcolor": "#C8D4E3",
           "bordercolor": "rgb(17,17,17)",
           "borderwidth": 1,
           "tickwidth": 0
          },
          "ternary": {
           "aaxis": {
            "gridcolor": "#506784",
            "linecolor": "#506784",
            "ticks": ""
           },
           "baxis": {
            "gridcolor": "#506784",
            "linecolor": "#506784",
            "ticks": ""
           },
           "bgcolor": "rgb(17,17,17)",
           "caxis": {
            "gridcolor": "#506784",
            "linecolor": "#506784",
            "ticks": ""
           }
          },
          "title": {
           "x": 0.05
          },
          "updatemenudefaults": {
           "bgcolor": "#506784",
           "borderwidth": 0
          },
          "xaxis": {
           "automargin": true,
           "gridcolor": "#283442",
           "linecolor": "#506784",
           "ticks": "",
           "title": {
            "standoff": 15
           },
           "zerolinecolor": "#283442",
           "zerolinewidth": 2
          },
          "yaxis": {
           "automargin": true,
           "gridcolor": "#283442",
           "linecolor": "#506784",
           "ticks": "",
           "title": {
            "standoff": 15
           },
           "zerolinecolor": "#283442",
           "zerolinewidth": 2
          }
         }
        },
        "width": 500
       }
      }
     },
     "metadata": {},
     "output_type": "display_data"
    }
   ],
   "source": [
    "import plotly.graph_objects as go\n",
    "import math\n",
    "\n",
    "\n",
    "def pad_text(text, length):\n",
    "    return \" \" * (length - len(text)) + text\n",
    "\n",
    "kpis = [\n",
    "    {'name': 'Sales', 'value': 85, 'color': '#d2b48c'},    \n",
    "    {'name': 'Leads', 'value': 60, 'color': '#c19a6b'},     \n",
    "    {'name': 'Satisfaction', 'value': 45, 'color': '#8b4513'},  \n",
    "    {'name': 'Retention', 'value': 70, 'color': '#5c4033'},\n",
    "    {'name': 'Renewals', 'value': 50, 'color': '#5c4022'}  \n",
    "]\n",
    "\n",
    "fig = go.Figure()\n",
    "max_arc = 270\n",
    "rotation_start = 0\n",
    "direction = 'clockwise'\n",
    "bg_gray = 'rgba(0,0,0,0.2)'\n",
    "invisible_color = 'rgba(0,0,0,0)'\n",
    "center_space = 0.12    \n",
    "gap = 0.02               \n",
    "num_kpis = len(kpis)\n",
    "max_total_thickness = 0.5 - center_space  \n",
    "total_gap_space = num_kpis * gap\n",
    "thickness = (max_total_thickness - total_gap_space) / num_kpis\n",
    "\n",
    "\n",
    "if thickness < 0:\n",
    "    raise ValueError(\"Not enough radial space for the number of KPIs. Reduce gaps or center_space.\")\n",
    "\n",
    "texts = [f\"{kpi['name']} {kpi['value']}%\" for kpi in kpis]\n",
    "max_len = max(len(t) for t in texts)\n",
    "\n",
    "for i, kpi in enumerate(kpis):\n",
    "    r_inner = center_space + i * (thickness + gap)\n",
    "    r_outer = r_inner + thickness\n",
    "    hole_frac = r_inner / r_outer\n",
    "    progress_deg = kpi['value'] * max_arc / 100.0\n",
    "    remaining_deg = max_arc - progress_deg\n",
    "    invisible_deg = 360 - max_arc\n",
    "    values = [progress_deg, remaining_deg, invisible_deg]\n",
    "    domain_box = {\n",
    "        'x': [0.5 - r_outer, 0.5 + r_outer],\n",
    "        'y': [0.5 - r_outer, 0.5 + r_outer]\n",
    "    }\n",
    "    fig.add_trace(go.Pie(\n",
    "        values=values,\n",
    "        labels=['', '', ''],\n",
    "        hole=hole_frac,\n",
    "        marker_colors=[kpi['color'], bg_gray, invisible_color],\n",
    "        direction=direction,\n",
    "        rotation=rotation_start,\n",
    "        sort=False,\n",
    "        textinfo='none',\n",
    "        hoverinfo='skip',\n",
    "        showlegend=False,\n",
    "        domain=domain_box\n",
    "    ))\n",
    "    ann_radius = r_inner + thickness / 2\n",
    "    ann_y = 0.5 + ann_radius\n",
    "    padded_text = pad_text(texts[i], max_len)\n",
    "    fig.add_annotation(\n",
    "        x=0.4,\n",
    "        y=ann_y,\n",
    "        xref='paper',\n",
    "        yref='paper',\n",
    "        text=padded_text,\n",
    "        showarrow=False,\n",
    "        align='left',\n",
    "        font=dict(size=12)  \n",
    "    )\n",
    "\n",
    "fig.add_annotation(\n",
    "    x=0.5, y=0.5,\n",
    "    xref='paper', yref='paper',\n",
    "    text=\"KPIs\",\n",
    "    showarrow=False,\n",
    "    font=dict(size=20),\n",
    "    align=\"center\"\n",
    ")\n",
    "\n",
    "fig.update_layout(\n",
    "    height=400, width=500,\n",
    "    margin=dict(t=0, b=0, l=0, r=0),\n",
    "    template=\"plotly_dark\"\n",
    ")\n",
    "\n",
    "fig.show()"
   ]
  },
  {
   "cell_type": "code",
   "execution_count": null,
   "id": "279b2eb6",
   "metadata": {},
   "outputs": [],
   "source": []
  }
 ],
 "metadata": {
  "kernelspec": {
   "display_name": "base",
   "language": "python",
   "name": "python3"
  },
  "language_info": {
   "codemirror_mode": {
    "name": "ipython",
    "version": 3
   },
   "file_extension": ".py",
   "mimetype": "text/x-python",
   "name": "python",
   "nbconvert_exporter": "python",
   "pygments_lexer": "ipython3",
   "version": "3.12.7"
  }
 },
 "nbformat": 4,
 "nbformat_minor": 5
}
